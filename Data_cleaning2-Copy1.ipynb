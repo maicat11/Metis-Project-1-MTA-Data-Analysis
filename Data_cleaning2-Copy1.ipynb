{
 "cells": [
  {
   "cell_type": "code",
   "execution_count": 8,
   "metadata": {},
   "outputs": [],
   "source": [
    "import pandas as pd\n",
    "import numpy as np\n",
    "import matplotlib.pyplot as plt\n",
    "\n",
    "from data_cleaner import read_mta_file\n",
    "\n",
    "data = read_mta_file(\"./data/Turnstile_Usage_Data__2018.csv\", pickle_ok=True)"
   ]
  },
  {
   "cell_type": "code",
   "execution_count": 9,
   "metadata": {},
   "outputs": [
    {
     "data": {
      "text/html": [
       "<div>\n",
       "<style scoped>\n",
       "    .dataframe tbody tr th:only-of-type {\n",
       "        vertical-align: middle;\n",
       "    }\n",
       "\n",
       "    .dataframe tbody tr th {\n",
       "        vertical-align: top;\n",
       "    }\n",
       "\n",
       "    .dataframe thead th {\n",
       "        text-align: right;\n",
       "    }\n",
       "</style>\n",
       "<table border=\"1\" class=\"dataframe\">\n",
       "  <thead>\n",
       "    <tr style=\"text-align: right;\">\n",
       "      <th></th>\n",
       "      <th>Entries</th>\n",
       "      <th>Exits</th>\n",
       "      <th>entry_delta</th>\n",
       "      <th>exit_delta</th>\n",
       "      <th>time_delta</th>\n",
       "    </tr>\n",
       "  </thead>\n",
       "  <tbody>\n",
       "    <tr>\n",
       "      <th>count</th>\n",
       "      <td>2.307938e+06</td>\n",
       "      <td>2.307938e+06</td>\n",
       "      <td>2.303187e+06</td>\n",
       "      <td>2.303187e+06</td>\n",
       "      <td>2303187</td>\n",
       "    </tr>\n",
       "    <tr>\n",
       "      <th>mean</th>\n",
       "      <td>3.943198e+07</td>\n",
       "      <td>3.245869e+07</td>\n",
       "      <td>4.245676e+03</td>\n",
       "      <td>2.639302e+03</td>\n",
       "      <td>0 days 04:00:28.255911</td>\n",
       "    </tr>\n",
       "    <tr>\n",
       "      <th>std</th>\n",
       "      <td>2.054488e+08</td>\n",
       "      <td>1.903985e+08</td>\n",
       "      <td>4.386836e+06</td>\n",
       "      <td>2.116909e+06</td>\n",
       "      <td>0 days 01:13:21.832730</td>\n",
       "    </tr>\n",
       "    <tr>\n",
       "      <th>min</th>\n",
       "      <td>0.000000e+00</td>\n",
       "      <td>0.000000e+00</td>\n",
       "      <td>-2.113960e+09</td>\n",
       "      <td>-8.241147e+08</td>\n",
       "      <td>0 days 00:00:00</td>\n",
       "    </tr>\n",
       "    <tr>\n",
       "      <th>25%</th>\n",
       "      <td>5.111670e+05</td>\n",
       "      <td>2.473715e+05</td>\n",
       "      <td>1.000000e+01</td>\n",
       "      <td>8.000000e+00</td>\n",
       "      <td>0 days 04:00:00</td>\n",
       "    </tr>\n",
       "    <tr>\n",
       "      <th>50%</th>\n",
       "      <td>2.569548e+06</td>\n",
       "      <td>1.450620e+06</td>\n",
       "      <td>7.600000e+01</td>\n",
       "      <td>5.200000e+01</td>\n",
       "      <td>0 days 04:00:00</td>\n",
       "    </tr>\n",
       "    <tr>\n",
       "      <th>75%</th>\n",
       "      <td>6.894137e+06</td>\n",
       "      <td>4.829568e+06</td>\n",
       "      <td>2.460000e+02</td>\n",
       "      <td>1.680000e+02</td>\n",
       "      <td>0 days 04:00:00</td>\n",
       "    </tr>\n",
       "    <tr>\n",
       "      <th>max</th>\n",
       "      <td>2.130007e+09</td>\n",
       "      <td>2.062656e+09</td>\n",
       "      <td>2.105700e+09</td>\n",
       "      <td>1.835852e+09</td>\n",
       "      <td>53 days 08:00:00</td>\n",
       "    </tr>\n",
       "  </tbody>\n",
       "</table>\n",
       "</div>"
      ],
      "text/plain": [
       "            Entries         Exits   entry_delta    exit_delta  \\\n",
       "count  2.307938e+06  2.307938e+06  2.303187e+06  2.303187e+06   \n",
       "mean   3.943198e+07  3.245869e+07  4.245676e+03  2.639302e+03   \n",
       "std    2.054488e+08  1.903985e+08  4.386836e+06  2.116909e+06   \n",
       "min    0.000000e+00  0.000000e+00 -2.113960e+09 -8.241147e+08   \n",
       "25%    5.111670e+05  2.473715e+05  1.000000e+01  8.000000e+00   \n",
       "50%    2.569548e+06  1.450620e+06  7.600000e+01  5.200000e+01   \n",
       "75%    6.894137e+06  4.829568e+06  2.460000e+02  1.680000e+02   \n",
       "max    2.130007e+09  2.062656e+09  2.105700e+09  1.835852e+09   \n",
       "\n",
       "                   time_delta  \n",
       "count                 2303187  \n",
       "mean   0 days 04:00:28.255911  \n",
       "std    0 days 01:13:21.832730  \n",
       "min           0 days 00:00:00  \n",
       "25%           0 days 04:00:00  \n",
       "50%           0 days 04:00:00  \n",
       "75%           0 days 04:00:00  \n",
       "max          53 days 08:00:00  "
      ]
     },
     "execution_count": 9,
     "metadata": {},
     "output_type": "execute_result"
    }
   ],
   "source": [
    "data.describe()"
   ]
  },
  {
   "cell_type": "code",
   "execution_count": 10,
   "metadata": {},
   "outputs": [
    {
     "data": {
      "text/html": [
       "<div>\n",
       "<style scoped>\n",
       "    .dataframe tbody tr th:only-of-type {\n",
       "        vertical-align: middle;\n",
       "    }\n",
       "\n",
       "    .dataframe tbody tr th {\n",
       "        vertical-align: top;\n",
       "    }\n",
       "\n",
       "    .dataframe thead th {\n",
       "        text-align: right;\n",
       "    }\n",
       "</style>\n",
       "<table border=\"1\" class=\"dataframe\">\n",
       "  <thead>\n",
       "    <tr style=\"text-align: right;\">\n",
       "      <th></th>\n",
       "      <th>C/A</th>\n",
       "      <th>Unit</th>\n",
       "      <th>SCP</th>\n",
       "      <th>Station</th>\n",
       "      <th>Description</th>\n",
       "      <th>Entries</th>\n",
       "      <th>Exits</th>\n",
       "      <th>ts_id</th>\n",
       "      <th>date_time</th>\n",
       "      <th>b_weekday</th>\n",
       "      <th>Weekday</th>\n",
       "      <th>entry_delta</th>\n",
       "      <th>exit_delta</th>\n",
       "      <th>time_delta</th>\n",
       "    </tr>\n",
       "  </thead>\n",
       "  <tbody>\n",
       "    <tr>\n",
       "      <th>0</th>\n",
       "      <td>H007</td>\n",
       "      <td>R248</td>\n",
       "      <td>00-00-00</td>\n",
       "      <td>1 AV</td>\n",
       "      <td>REGULAR</td>\n",
       "      <td>13374456</td>\n",
       "      <td>14948386</td>\n",
       "      <td>R248_00-00-00</td>\n",
       "      <td>2018-04-01 00:00:00</td>\n",
       "      <td>False</td>\n",
       "      <td>Sunday</td>\n",
       "      <td>NaN</td>\n",
       "      <td>NaN</td>\n",
       "      <td>NaT</td>\n",
       "    </tr>\n",
       "    <tr>\n",
       "      <th>1</th>\n",
       "      <td>H007</td>\n",
       "      <td>R248</td>\n",
       "      <td>00-00-00</td>\n",
       "      <td>1 AV</td>\n",
       "      <td>REGULAR</td>\n",
       "      <td>13374533</td>\n",
       "      <td>14948676</td>\n",
       "      <td>R248_00-00-00</td>\n",
       "      <td>2018-04-01 04:00:00</td>\n",
       "      <td>False</td>\n",
       "      <td>Sunday</td>\n",
       "      <td>77.0</td>\n",
       "      <td>290.0</td>\n",
       "      <td>04:00:00</td>\n",
       "    </tr>\n",
       "    <tr>\n",
       "      <th>2</th>\n",
       "      <td>H007</td>\n",
       "      <td>R248</td>\n",
       "      <td>00-00-00</td>\n",
       "      <td>1 AV</td>\n",
       "      <td>REGULAR</td>\n",
       "      <td>13374584</td>\n",
       "      <td>14948858</td>\n",
       "      <td>R248_00-00-00</td>\n",
       "      <td>2018-04-01 08:00:00</td>\n",
       "      <td>False</td>\n",
       "      <td>Sunday</td>\n",
       "      <td>51.0</td>\n",
       "      <td>182.0</td>\n",
       "      <td>04:00:00</td>\n",
       "    </tr>\n",
       "  </tbody>\n",
       "</table>\n",
       "</div>"
      ],
      "text/plain": [
       "    C/A  Unit       SCP Station Description   Entries     Exits  \\\n",
       "0  H007  R248  00-00-00    1 AV     REGULAR  13374456  14948386   \n",
       "1  H007  R248  00-00-00    1 AV     REGULAR  13374533  14948676   \n",
       "2  H007  R248  00-00-00    1 AV     REGULAR  13374584  14948858   \n",
       "\n",
       "           ts_id           date_time  b_weekday Weekday  entry_delta  \\\n",
       "0  R248_00-00-00 2018-04-01 00:00:00      False  Sunday          NaN   \n",
       "1  R248_00-00-00 2018-04-01 04:00:00      False  Sunday         77.0   \n",
       "2  R248_00-00-00 2018-04-01 08:00:00      False  Sunday         51.0   \n",
       "\n",
       "   exit_delta time_delta  \n",
       "0         NaN        NaT  \n",
       "1       290.0   04:00:00  \n",
       "2       182.0   04:00:00  "
      ]
     },
     "execution_count": 10,
     "metadata": {},
     "output_type": "execute_result"
    }
   ],
   "source": [
    "data.head(3)"
   ]
  },
  {
   "cell_type": "code",
   "execution_count": 11,
   "metadata": {},
   "outputs": [
    {
     "name": "stderr",
     "output_type": "stream",
     "text": [
      "/Users/jlc/anaconda3/lib/python3.7/site-packages/scipy/stats/stats.py:1713: FutureWarning: Using a non-tuple sequence for multidimensional indexing is deprecated; use `arr[tuple(seq)]` instead of `arr[seq]`. In the future this will be interpreted as an array index, `arr[np.array(seq)]`, which will result either in an error or a different result.\n",
      "  return np.add.reduce(sorted[indexer] * weights, axis=axis) / sumval\n"
     ]
    },
    {
     "data": {
      "text/plain": [
       "<matplotlib.axes._subplots.AxesSubplot at 0x12d110198>"
      ]
     },
     "execution_count": 11,
     "metadata": {},
     "output_type": "execute_result"
    },
    {
     "data": {
      "image/png": "[encoded data removed]",
      "text/plain": [
       "<Figure size 432x288 with 1 Axes>"
      ]
     },
     "metadata": {
      "needs_background": "light"
     },
     "output_type": "display_data"
    }
   ],
   "source": [
    "import seaborn as sns\n",
    "%matplotlib inline\n",
    "\n",
    "sns.distplot(data['time_delta'],  hist=False)"
   ]
  },
  {
   "cell_type": "code",
   "execution_count": 12,
   "metadata": {},
   "outputs": [
    {
     "data": {
      "text/plain": [
       "(4416, 14)"
      ]
     },
     "execution_count": 12,
     "metadata": {},
     "output_type": "execute_result"
    }
   ],
   "source": [
    "too_small = pd.Timedelta(minutes=3)\n",
    "too_small_data = data[data.time_delta < too_small]\n",
    "too_small_data.shape"
   ]
  },
  {
   "cell_type": "code",
   "execution_count": 13,
   "metadata": {},
   "outputs": [
    {
     "data": {
      "text/plain": [
       "<matplotlib.axes._subplots.AxesSubplot at 0x12f5d3940>"
      ]
     },
     "execution_count": 13,
     "metadata": {},
     "output_type": "execute_result"
    },
    {
     "data": {
      "image/png": "[encoded data removed]",
      "text/plain": [
       "<Figure size 432x288 with 1 Axes>"
      ]
     },
     "metadata": {
      "needs_background": "light"
     },
     "output_type": "display_data"
    }
   ],
   "source": [
    "sns.distplot(too_small_data['time_delta'], hist=False)"
   ]
  },
  {
   "cell_type": "code",
   "execution_count": 14,
   "metadata": {},
   "outputs": [
    {
     "data": {
      "text/plain": [
       "Int64Index([  11075,   11076,   11077,   11078,   11079,   11080,   11081,\n",
       "              11082,   11083,   11084,\n",
       "            ...\n",
       "            2298811, 2299306, 2299801, 2300296, 2300791, 2301285, 2301780,\n",
       "            2302275, 2302770, 2303265],\n",
       "           dtype='int64', length=4416)"
      ]
     },
     "execution_count": 14,
     "metadata": {},
     "output_type": "execute_result"
    }
   ],
   "source": [
    "too_small_data.index"
   ]
  },
  {
   "cell_type": "code",
   "execution_count": 15,
   "metadata": {},
   "outputs": [
    {
     "data": {
      "text/plain": [
       "count    4.416000e+03\n",
       "mean    -2.806342e+03\n",
       "std      1.865555e+05\n",
       "min     -1.239717e+07\n",
       "25%      0.000000e+00\n",
       "50%      0.000000e+00\n",
       "75%      1.000000e+00\n",
       "max      2.100000e+01\n",
       "Name: entry_delta, dtype: float64"
      ]
     },
     "execution_count": 15,
     "metadata": {},
     "output_type": "execute_result"
    }
   ],
   "source": [
    "too_small_data.entry_delta.describe()"
   ]
  },
  {
   "cell_type": "code",
   "execution_count": 16,
   "metadata": {},
   "outputs": [],
   "source": [
    "# poked around nothing worth keeping here!"
   ]
  },
  {
   "cell_type": "code",
   "execution_count": 17,
   "metadata": {},
   "outputs": [],
   "source": [
    "data = data.drop(axis='index', labels=too_small_data.index)"
   ]
  },
  {
   "cell_type": "code",
   "execution_count": 18,
   "metadata": {},
   "outputs": [],
   "source": [
    "too_long = pd.Timedelta(hours=5, minutes=30)\n",
    "too_long_data = data[data.time_delta > too_long]"
   ]
  },
  {
   "cell_type": "code",
   "execution_count": 19,
   "metadata": {},
   "outputs": [
    {
     "data": {
      "text/plain": [
       "<matplotlib.axes._subplots.AxesSubplot at 0x12f70c438>"
      ]
     },
     "execution_count": 19,
     "metadata": {},
     "output_type": "execute_result"
    },
    {
     "data": {
      "image/png": "[encoded data removed]",
      "text/plain": [
       "<Figure size 432x288 with 1 Axes>"
      ]
     },
     "metadata": {
      "needs_background": "light"
     },
     "output_type": "display_data"
    }
   ],
   "source": [
    "sns.distplot(too_long_data['time_delta'], hist=False)"
   ]
  },
  {
   "cell_type": "code",
   "execution_count": 20,
   "metadata": {},
   "outputs": [],
   "source": [
    "# In order to standardize the graphs, we really only want to plot the four hour chunks\n",
    "\n",
    "data.loc[too_long_data.index, ['entry_delta', 'exit_delta']] = np.nan"
   ]
  },
  {
   "cell_type": "code",
   "execution_count": 21,
   "metadata": {},
   "outputs": [
    {
     "data": {
      "text/plain": [
       "C/A                           H008\n",
       "Unit                          R248\n",
       "SCP                       01-00-00\n",
       "Station                       1 AV\n",
       "Description                REGULAR\n",
       "Entries                     191286\n",
       "Exits                      2841693\n",
       "ts_id                R248_01-00-00\n",
       "date_time      2018-04-19 12:00:00\n",
       "b_weekday                     True\n",
       "Weekday                   Thursday\n",
       "entry_delta                    NaN\n",
       "exit_delta                     NaN\n",
       "time_delta         0 days 08:00:00\n",
       "Name: 2580, dtype: object"
      ]
     },
     "execution_count": 21,
     "metadata": {},
     "output_type": "execute_result"
    }
   ],
   "source": [
    "data.loc[2580]"
   ]
  },
  {
   "cell_type": "code",
   "execution_count": 22,
   "metadata": {},
   "outputs": [
    {
     "name": "stderr",
     "output_type": "stream",
     "text": [
      "/Users/jlc/anaconda3/lib/python3.7/site-packages/statsmodels/nonparametric/kde.py:448: RuntimeWarning: invalid value encountered in greater\n",
      "  X = X[np.logical_and(X > clip[0], X < clip[1])] # won't work for two columns.\n",
      "/Users/jlc/anaconda3/lib/python3.7/site-packages/statsmodels/nonparametric/kde.py:448: RuntimeWarning: invalid value encountered in less\n",
      "  X = X[np.logical_and(X > clip[0], X < clip[1])] # won't work for two columns.\n"
     ]
    },
    {
     "data": {
      "text/plain": [
       "<matplotlib.axes._subplots.AxesSubplot at 0x12f582ef0>"
      ]
     },
     "execution_count": 22,
     "metadata": {},
     "output_type": "execute_result"
    },
    {
     "data": {
      "image/png": "[encoded data removed]",
      "text/plain": [
       "<Figure size 432x288 with 1 Axes>"
      ]
     },
     "metadata": {
      "needs_background": "light"
     },
     "output_type": "display_data"
    }
   ],
   "source": [
    "sns.distplot(data['entry_delta'], hist=False)"
   ]
  },
  {
   "cell_type": "code",
   "execution_count": 23,
   "metadata": {},
   "outputs": [
    {
     "data": {
      "text/plain": [
       "count    2.295960e+06\n",
       "mean     4.065615e+03\n",
       "std      3.127513e+06\n",
       "min     -2.113960e+09\n",
       "25%      1.000000e+01\n",
       "50%      7.600000e+01\n",
       "75%      2.460000e+02\n",
       "max      2.105700e+09\n",
       "Name: entry_delta, dtype: float64"
      ]
     },
     "execution_count": 23,
     "metadata": {},
     "output_type": "execute_result"
    }
   ],
   "source": [
    "data['entry_delta'].describe()"
   ]
  },
  {
   "cell_type": "code",
   "execution_count": 24,
   "metadata": {},
   "outputs": [
    {
     "data": {
      "text/plain": [
       "2679.0"
      ]
     },
     "execution_count": 24,
     "metadata": {},
     "output_type": "execute_result"
    }
   ],
   "source": [
    "data.entry_delta.quantile(q=.9999)"
   ]
  },
  {
   "cell_type": "code",
   "execution_count": 25,
   "metadata": {},
   "outputs": [
    {
     "data": {
      "text/plain": [
       "860959.8093799781"
      ]
     },
     "execution_count": 25,
     "metadata": {},
     "output_type": "execute_result"
    }
   ],
   "source": [
    "data.entry_delta.quantile(q=.99999)"
   ]
  },
  {
   "cell_type": "code",
   "execution_count": 26,
   "metadata": {},
   "outputs": [
    {
     "data": {
      "text/plain": [
       "-1965.1827299999998"
      ]
     },
     "execution_count": 26,
     "metadata": {},
     "output_type": "execute_result"
    }
   ],
   "source": [
    "data.entry_delta.quantile(q=.00009)"
   ]
  },
  {
   "cell_type": "code",
   "execution_count": 27,
   "metadata": {},
   "outputs": [],
   "source": [
    "# As an initial guess that won't toss much data, let's say that\n",
    "# 5000 is a reasonable guess at the max a turnstile would ever really \n",
    "# handle in a four hour period"
   ]
  },
  {
   "cell_type": "code",
   "execution_count": 31,
   "metadata": {},
   "outputs": [],
   "source": [
    "bogus_entry = data.query('(entry_delta < -4500) or (entry_delta > 4500)')\n",
    "bogus_exit = data.query('(exit_delta < -4500) or (exit_delta > 4500)')\n",
    "\n"
   ]
  },
  {
   "cell_type": "code",
   "execution_count": 32,
   "metadata": {},
   "outputs": [],
   "source": [
    "data.loc[bogus_entry.index, 'entry_delta'] = np.nan\n",
    "data.loc[bogus_exit.index, 'exit_delta'] = np.nan"
   ]
  },
  {
   "cell_type": "code",
   "execution_count": 33,
   "metadata": {},
   "outputs": [
    {
     "data": {
      "text/plain": [
       "C/A                           N137\n",
       "Unit                          R354\n",
       "SCP                       00-00-00\n",
       "Station                     104 ST\n",
       "Description                REGULAR\n",
       "Entries                        116\n",
       "Exits                           19\n",
       "ts_id                R354_00-00-00\n",
       "date_time      2018-04-03 12:00:00\n",
       "b_weekday                     True\n",
       "Weekday                    Tuesday\n",
       "entry_delta                    NaN\n",
       "exit_delta                     NaN\n",
       "time_delta         0 days 04:00:00\n",
       "Name: 18789, dtype: object"
      ]
     },
     "execution_count": 33,
     "metadata": {},
     "output_type": "execute_result"
    }
   ],
   "source": [
    "data.loc[18789]"
   ]
  },
  {
   "cell_type": "code",
   "execution_count": 34,
   "metadata": {},
   "outputs": [],
   "source": [
    "neg_entry = data.query('entry_delta < 0')\n",
    "neg_exit = data.query('exit_delta < 0')"
   ]
  },
  {
   "cell_type": "code",
   "execution_count": 35,
   "metadata": {},
   "outputs": [
    {
     "data": {
      "text/html": [
       "<div>\n",
       "<style scoped>\n",
       "    .dataframe tbody tr th:only-of-type {\n",
       "        vertical-align: middle;\n",
       "    }\n",
       "\n",
       "    .dataframe tbody tr th {\n",
       "        vertical-align: top;\n",
       "    }\n",
       "\n",
       "    .dataframe thead th {\n",
       "        text-align: right;\n",
       "    }\n",
       "</style>\n",
       "<table border=\"1\" class=\"dataframe\">\n",
       "  <thead>\n",
       "    <tr style=\"text-align: right;\">\n",
       "      <th></th>\n",
       "      <th>Entries</th>\n",
       "      <th>Exits</th>\n",
       "      <th>entry_delta</th>\n",
       "      <th>exit_delta</th>\n",
       "      <th>time_delta</th>\n",
       "    </tr>\n",
       "  </thead>\n",
       "  <tbody>\n",
       "    <tr>\n",
       "      <th>count</th>\n",
       "      <td>1.925000e+04</td>\n",
       "      <td>1.925000e+04</td>\n",
       "      <td>19250.00000</td>\n",
       "      <td>19246.000000</td>\n",
       "      <td>19250</td>\n",
       "    </tr>\n",
       "    <tr>\n",
       "      <th>mean</th>\n",
       "      <td>1.213131e+09</td>\n",
       "      <td>1.108489e+09</td>\n",
       "      <td>-341.49387</td>\n",
       "      <td>-0.145017</td>\n",
       "      <td>0 days 03:58:50.170961</td>\n",
       "    </tr>\n",
       "    <tr>\n",
       "      <th>std</th>\n",
       "      <td>6.363385e+08</td>\n",
       "      <td>6.069242e+08</td>\n",
       "      <td>387.84901</td>\n",
       "      <td>353.924149</td>\n",
       "      <td>0 days 00:15:05.544742</td>\n",
       "    </tr>\n",
       "    <tr>\n",
       "      <th>min</th>\n",
       "      <td>0.000000e+00</td>\n",
       "      <td>0.000000e+00</td>\n",
       "      <td>-4276.00000</td>\n",
       "      <td>-3839.000000</td>\n",
       "      <td>0 days 00:03:48</td>\n",
       "    </tr>\n",
       "    <tr>\n",
       "      <th>25%</th>\n",
       "      <td>6.907964e+08</td>\n",
       "      <td>7.030592e+08</td>\n",
       "      <td>-503.00000</td>\n",
       "      <td>-76.000000</td>\n",
       "      <td>0 days 04:00:00</td>\n",
       "    </tr>\n",
       "    <tr>\n",
       "      <th>50%</th>\n",
       "      <td>1.256734e+09</td>\n",
       "      <td>1.094902e+09</td>\n",
       "      <td>-204.00000</td>\n",
       "      <td>7.000000</td>\n",
       "      <td>0 days 04:00:00</td>\n",
       "    </tr>\n",
       "    <tr>\n",
       "      <th>75%</th>\n",
       "      <td>1.759126e+09</td>\n",
       "      <td>1.595305e+09</td>\n",
       "      <td>-54.00000</td>\n",
       "      <td>118.000000</td>\n",
       "      <td>0 days 04:00:00</td>\n",
       "    </tr>\n",
       "    <tr>\n",
       "      <th>max</th>\n",
       "      <td>2.130007e+09</td>\n",
       "      <td>2.062656e+09</td>\n",
       "      <td>-1.00000</td>\n",
       "      <td>1659.000000</td>\n",
       "      <td>0 days 04:14:17</td>\n",
       "    </tr>\n",
       "  </tbody>\n",
       "</table>\n",
       "</div>"
      ],
      "text/plain": [
       "            Entries         Exits  entry_delta    exit_delta  \\\n",
       "count  1.925000e+04  1.925000e+04  19250.00000  19246.000000   \n",
       "mean   1.213131e+09  1.108489e+09   -341.49387     -0.145017   \n",
       "std    6.363385e+08  6.069242e+08    387.84901    353.924149   \n",
       "min    0.000000e+00  0.000000e+00  -4276.00000  -3839.000000   \n",
       "25%    6.907964e+08  7.030592e+08   -503.00000    -76.000000   \n",
       "50%    1.256734e+09  1.094902e+09   -204.00000      7.000000   \n",
       "75%    1.759126e+09  1.595305e+09    -54.00000    118.000000   \n",
       "max    2.130007e+09  2.062656e+09     -1.00000   1659.000000   \n",
       "\n",
       "                   time_delta  \n",
       "count                   19250  \n",
       "mean   0 days 03:58:50.170961  \n",
       "std    0 days 00:15:05.544742  \n",
       "min           0 days 00:03:48  \n",
       "25%           0 days 04:00:00  \n",
       "50%           0 days 04:00:00  \n",
       "75%           0 days 04:00:00  \n",
       "max           0 days 04:14:17  "
      ]
     },
     "execution_count": 35,
     "metadata": {},
     "output_type": "execute_result"
    }
   ],
   "source": [
    "neg_entry.describe()"
   ]
  },
  {
   "cell_type": "code",
   "execution_count": 36,
   "metadata": {},
   "outputs": [
    {
     "data": {
      "text/html": [
       "<div>\n",
       "<style scoped>\n",
       "    .dataframe tbody tr th:only-of-type {\n",
       "        vertical-align: middle;\n",
       "    }\n",
       "\n",
       "    .dataframe tbody tr th {\n",
       "        vertical-align: top;\n",
       "    }\n",
       "\n",
       "    .dataframe thead th {\n",
       "        text-align: right;\n",
       "    }\n",
       "</style>\n",
       "<table border=\"1\" class=\"dataframe\">\n",
       "  <thead>\n",
       "    <tr style=\"text-align: right;\">\n",
       "      <th></th>\n",
       "      <th>Entries</th>\n",
       "      <th>Exits</th>\n",
       "      <th>entry_delta</th>\n",
       "      <th>exit_delta</th>\n",
       "      <th>time_delta</th>\n",
       "    </tr>\n",
       "  </thead>\n",
       "  <tbody>\n",
       "    <tr>\n",
       "      <th>count</th>\n",
       "      <td>1.502600e+04</td>\n",
       "      <td>1.502600e+04</td>\n",
       "      <td>15007.000000</td>\n",
       "      <td>15026.000000</td>\n",
       "      <td>15026</td>\n",
       "    </tr>\n",
       "    <tr>\n",
       "      <th>mean</th>\n",
       "      <td>1.072640e+09</td>\n",
       "      <td>1.176939e+09</td>\n",
       "      <td>-67.233424</td>\n",
       "      <td>-254.623919</td>\n",
       "      <td>0 days 03:59:06.118594</td>\n",
       "    </tr>\n",
       "    <tr>\n",
       "      <th>std</th>\n",
       "      <td>6.400913e+08</td>\n",
       "      <td>5.763952e+08</td>\n",
       "      <td>385.903185</td>\n",
       "      <td>362.756166</td>\n",
       "      <td>0 days 00:13:09.821547</td>\n",
       "    </tr>\n",
       "    <tr>\n",
       "      <th>min</th>\n",
       "      <td>0.000000e+00</td>\n",
       "      <td>0.000000e+00</td>\n",
       "      <td>-4276.000000</td>\n",
       "      <td>-4267.000000</td>\n",
       "      <td>0 days 00:03:53</td>\n",
       "    </tr>\n",
       "    <tr>\n",
       "      <th>25%</th>\n",
       "      <td>5.276675e+08</td>\n",
       "      <td>7.362117e+08</td>\n",
       "      <td>-206.000000</td>\n",
       "      <td>-339.000000</td>\n",
       "      <td>0 days 04:00:00</td>\n",
       "    </tr>\n",
       "    <tr>\n",
       "      <th>50%</th>\n",
       "      <td>1.040667e+09</td>\n",
       "      <td>1.200676e+09</td>\n",
       "      <td>-18.000000</td>\n",
       "      <td>-114.000000</td>\n",
       "      <td>0 days 04:00:00</td>\n",
       "    </tr>\n",
       "    <tr>\n",
       "      <th>75%</th>\n",
       "      <td>1.568163e+09</td>\n",
       "      <td>1.691013e+09</td>\n",
       "      <td>65.000000</td>\n",
       "      <td>-34.000000</td>\n",
       "      <td>0 days 04:00:00</td>\n",
       "    </tr>\n",
       "    <tr>\n",
       "      <th>max</th>\n",
       "      <td>2.130007e+09</td>\n",
       "      <td>2.062656e+09</td>\n",
       "      <td>2083.000000</td>\n",
       "      <td>-1.000000</td>\n",
       "      <td>0 days 04:14:17</td>\n",
       "    </tr>\n",
       "  </tbody>\n",
       "</table>\n",
       "</div>"
      ],
      "text/plain": [
       "            Entries         Exits   entry_delta    exit_delta  \\\n",
       "count  1.502600e+04  1.502600e+04  15007.000000  15026.000000   \n",
       "mean   1.072640e+09  1.176939e+09    -67.233424   -254.623919   \n",
       "std    6.400913e+08  5.763952e+08    385.903185    362.756166   \n",
       "min    0.000000e+00  0.000000e+00  -4276.000000  -4267.000000   \n",
       "25%    5.276675e+08  7.362117e+08   -206.000000   -339.000000   \n",
       "50%    1.040667e+09  1.200676e+09    -18.000000   -114.000000   \n",
       "75%    1.568163e+09  1.691013e+09     65.000000    -34.000000   \n",
       "max    2.130007e+09  2.062656e+09   2083.000000     -1.000000   \n",
       "\n",
       "                   time_delta  \n",
       "count                   15026  \n",
       "mean   0 days 03:59:06.118594  \n",
       "std    0 days 00:13:09.821547  \n",
       "min           0 days 00:03:53  \n",
       "25%           0 days 04:00:00  \n",
       "50%           0 days 04:00:00  \n",
       "75%           0 days 04:00:00  \n",
       "max           0 days 04:14:17  "
      ]
     },
     "execution_count": 36,
     "metadata": {},
     "output_type": "execute_result"
    }
   ],
   "source": [
    "neg_exit.describe()"
   ]
  },
  {
   "cell_type": "code",
   "execution_count": 37,
   "metadata": {},
   "outputs": [],
   "source": [
    "fixed = data.loc[neg_entry.index, 'entry_delta'].apply(np.abs)"
   ]
  },
  {
   "cell_type": "code",
   "execution_count": 38,
   "metadata": {},
   "outputs": [
    {
     "data": {
      "text/plain": [
       "count    19250.00000\n",
       "mean       341.49387\n",
       "std        387.84901\n",
       "min          1.00000\n",
       "25%         54.00000\n",
       "50%        204.00000\n",
       "75%        503.00000\n",
       "max       4276.00000\n",
       "Name: entry_delta, dtype: float64"
      ]
     },
     "execution_count": 38,
     "metadata": {},
     "output_type": "execute_result"
    }
   ],
   "source": [
    "fixed.describe()"
   ]
  },
  {
   "cell_type": "code",
   "execution_count": 39,
   "metadata": {},
   "outputs": [],
   "source": [
    "data.loc[neg_entry.index, 'entry_delta'] = data.loc[neg_entry.index, 'entry_delta'].apply(np.abs)\n",
    "data.loc[neg_exit.index, 'exit_delta'] = data.loc[neg_exit.index, 'exit_delta'].apply(np.abs)"
   ]
  },
  {
   "cell_type": "code",
   "execution_count": 48,
   "metadata": {},
   "outputs": [
    {
     "name": "stderr",
     "output_type": "stream",
     "text": [
      "/Users/jlc/anaconda3/lib/python3.7/site-packages/matplotlib/figure.py:98: MatplotlibDeprecationWarning: \n",
      "Adding an axes using the same arguments as a previous axes currently reuses the earlier instance.  In a future version, a new instance will always be created and returned.  Meanwhile, this warning can be suppressed, and the future behavior ensured, by passing a unique label to each axes instance.\n",
      "  \"Adding an axes using the same arguments as a previous axes \"\n"
     ]
    },
    {
     "data": {
      "image/svg+xml": [
       "<?xml version=\"1.0\" encoding=\"utf-8\" standalone=\"no\"?>\n",
       "<!DOCTYPE svg PUBLIC \"-//W3C//DTD SVG 1.1//EN\"\n",
       "  \"http://www.w3.org/Graphics/SVG/1.1/DTD/svg11.dtd\">\n",
       "<!-- Created with matplotlib (https://matplotlib.org/) -->\n",
       "<svg height=\"275.837188pt\" version=\"1.1\" viewBox=\"0 0 356.2 275.837188\" width=\"356.2pt\" xmlns=\"http://www.w3.org/2000/svg\" xmlns:xlink=\"http://www.w3.org/1999/xlink\">\n",
       " <defs>\n",
       "  <style type=\"text/css\">\n",
       "*{stroke-linecap:butt;stroke-linejoin:round;}\n",
       "  </style>\n",
       " </defs>\n",
       " <g id=\"figure_1\">\n",
       "  <g id=\"patch_1\">\n",
       "   <path d=\"M 0 275.837188 \n",
       "L 356.2 275.837188 \n",
       "L 356.2 0 \n",
       "L 0 0 \n",
       "z\n",
       "\" style=\"fill:#ffffff;\"/>\n",
       "  </g>\n",
       "  <g id=\"axes_1\">\n",
       "   <g id=\"patch_2\">\n",
       "    <path d=\"M 10.7 239.229375 \n",
       "L 345.5 239.229375 \n",
       "L 345.5 21.789375 \n",
       "L 10.7 21.789375 \n",
       "z\n",
       "\" style=\"fill:#ffffff;\"/>\n",
       "   </g>\n",
       "   <g id=\"matplotlib.axis_1\">\n",
       "    <g id=\"xtick_1\">\n",
       "     <g id=\"text_1\">\n",
       "      <!-- 0 -->\n",
       "      <defs>\n",
       "       <path d=\"M 4.15625 35.296875 \n",
       "Q 4.15625 48 6.765625 55.734375 \n",
       "Q 9.375 63.484375 14.515625 67.671875 \n",
       "Q 19.671875 71.875 27.484375 71.875 \n",
       "Q 33.25 71.875 37.59375 69.546875 \n",
       "Q 41.9375 67.234375 44.765625 62.859375 \n",
       "Q 47.609375 58.5 49.21875 52.21875 \n",
       "Q 50.828125 45.953125 50.828125 35.296875 \n",
       "Q 50.828125 22.703125 48.234375 14.96875 \n",
       "Q 45.65625 7.234375 40.5 3 \n",
       "Q 35.359375 -1.21875 27.484375 -1.21875 \n",
       "Q 17.140625 -1.21875 11.234375 6.203125 \n",
       "Q 4.15625 15.140625 4.15625 35.296875 \n",
       "z\n",
       "M 13.1875 35.296875 \n",
       "Q 13.1875 17.671875 17.3125 11.828125 \n",
       "Q 21.4375 6 27.484375 6 \n",
       "Q 33.546875 6 37.671875 11.859375 \n",
       "Q 41.796875 17.71875 41.796875 35.296875 \n",
       "Q 41.796875 52.984375 37.671875 58.78125 \n",
       "Q 33.546875 64.59375 27.390625 64.59375 \n",
       "Q 21.34375 64.59375 17.71875 59.46875 \n",
       "Q 13.1875 52.9375 13.1875 35.296875 \n",
       "z\n",
       "\" id=\"ArialMT-48\"/>\n",
       "      </defs>\n",
       "      <g style=\"fill:#262626;\" transform=\"translate(25.248799 253.387188)scale(0.1 -0.1)\">\n",
       "       <use xlink:href=\"#ArialMT-48\"/>\n",
       "      </g>\n",
       "     </g>\n",
       "    </g>\n",
       "    <g id=\"xtick_2\">\n",
       "     <g id=\"text_2\">\n",
       "      <!-- 1000 -->\n",
       "      <defs>\n",
       "       <path d=\"M 37.25 0 \n",
       "L 28.46875 0 \n",
       "L 28.46875 56 \n",
       "Q 25.296875 52.984375 20.140625 49.953125 \n",
       "Q 14.984375 46.921875 10.890625 45.40625 \n",
       "L 10.890625 53.90625 \n",
       "Q 18.265625 57.375 23.78125 62.296875 \n",
       "Q 29.296875 67.234375 31.59375 71.875 \n",
       "L 37.25 71.875 \n",
       "z\n",
       "\" id=\"ArialMT-49\"/>\n",
       "      </defs>\n",
       "      <g style=\"fill:#262626;\" transform=\"translate(87.099503 253.387188)scale(0.1 -0.1)\">\n",
       "       <use xlink:href=\"#ArialMT-49\"/>\n",
       "       <use x=\"55.615234\" xlink:href=\"#ArialMT-48\"/>\n",
       "       <use x=\"111.230469\" xlink:href=\"#ArialMT-48\"/>\n",
       "       <use x=\"166.845703\" xlink:href=\"#ArialMT-48\"/>\n",
       "      </g>\n",
       "     </g>\n",
       "    </g>\n",
       "    <g id=\"xtick_3\">\n",
       "     <g id=\"text_3\">\n",
       "      <!-- 2000 -->\n",
       "      <defs>\n",
       "       <path d=\"M 50.34375 8.453125 \n",
       "L 50.34375 0 \n",
       "L 3.03125 0 \n",
       "Q 2.9375 3.171875 4.046875 6.109375 \n",
       "Q 5.859375 10.9375 9.828125 15.625 \n",
       "Q 13.8125 20.3125 21.34375 26.46875 \n",
       "Q 33.015625 36.03125 37.109375 41.625 \n",
       "Q 41.21875 47.21875 41.21875 52.203125 \n",
       "Q 41.21875 57.421875 37.46875 61 \n",
       "Q 33.734375 64.59375 27.734375 64.59375 \n",
       "Q 21.390625 64.59375 17.578125 60.78125 \n",
       "Q 13.765625 56.984375 13.71875 50.25 \n",
       "L 4.6875 51.171875 \n",
       "Q 5.609375 61.28125 11.65625 66.578125 \n",
       "Q 17.71875 71.875 27.9375 71.875 \n",
       "Q 38.234375 71.875 44.234375 66.15625 \n",
       "Q 50.25 60.453125 50.25 52 \n",
       "Q 50.25 47.703125 48.484375 43.546875 \n",
       "Q 46.734375 39.40625 42.65625 34.8125 \n",
       "Q 38.578125 30.21875 29.109375 22.21875 \n",
       "Q 21.1875 15.578125 18.9375 13.203125 \n",
       "Q 16.703125 10.84375 15.234375 8.453125 \n",
       "z\n",
       "\" id=\"ArialMT-50\"/>\n",
       "      </defs>\n",
       "      <g style=\"fill:#262626;\" transform=\"translate(157.291614 253.387188)scale(0.1 -0.1)\">\n",
       "       <use xlink:href=\"#ArialMT-50\"/>\n",
       "       <use x=\"55.615234\" xlink:href=\"#ArialMT-48\"/>\n",
       "       <use x=\"111.230469\" xlink:href=\"#ArialMT-48\"/>\n",
       "       <use x=\"166.845703\" xlink:href=\"#ArialMT-48\"/>\n",
       "      </g>\n",
       "     </g>\n",
       "    </g>\n",
       "    <g id=\"xtick_4\">\n",
       "     <g id=\"text_4\">\n",
       "      <!-- 3000 -->\n",
       "      <defs>\n",
       "       <path d=\"M 4.203125 18.890625 \n",
       "L 12.984375 20.0625 \n",
       "Q 14.5 12.59375 18.140625 9.296875 \n",
       "Q 21.78125 6 27 6 \n",
       "Q 33.203125 6 37.46875 10.296875 \n",
       "Q 41.75 14.59375 41.75 20.953125 \n",
       "Q 41.75 27 37.796875 30.921875 \n",
       "Q 33.84375 34.859375 27.734375 34.859375 \n",
       "Q 25.25 34.859375 21.53125 33.890625 \n",
       "L 22.515625 41.609375 \n",
       "Q 23.390625 41.5 23.921875 41.5 \n",
       "Q 29.546875 41.5 34.03125 44.421875 \n",
       "Q 38.53125 47.359375 38.53125 53.46875 \n",
       "Q 38.53125 58.296875 35.25 61.46875 \n",
       "Q 31.984375 64.65625 26.8125 64.65625 \n",
       "Q 21.6875 64.65625 18.265625 61.421875 \n",
       "Q 14.84375 58.203125 13.875 51.765625 \n",
       "L 5.078125 53.328125 \n",
       "Q 6.6875 62.15625 12.390625 67.015625 \n",
       "Q 18.109375 71.875 26.609375 71.875 \n",
       "Q 32.46875 71.875 37.390625 69.359375 \n",
       "Q 42.328125 66.84375 44.9375 62.5 \n",
       "Q 47.5625 58.15625 47.5625 53.265625 \n",
       "Q 47.5625 48.640625 45.0625 44.828125 \n",
       "Q 42.578125 41.015625 37.703125 38.765625 \n",
       "Q 44.046875 37.3125 47.5625 32.6875 \n",
       "Q 51.078125 28.078125 51.078125 21.140625 \n",
       "Q 51.078125 11.765625 44.234375 5.25 \n",
       "Q 37.40625 -1.265625 26.953125 -1.265625 \n",
       "Q 17.53125 -1.265625 11.296875 4.34375 \n",
       "Q 5.078125 9.96875 4.203125 18.890625 \n",
       "z\n",
       "\" id=\"ArialMT-51\"/>\n",
       "      </defs>\n",
       "      <g style=\"fill:#262626;\" transform=\"translate(227.483724 253.387188)scale(0.1 -0.1)\">\n",
       "       <use xlink:href=\"#ArialMT-51\"/>\n",
       "       <use x=\"55.615234\" xlink:href=\"#ArialMT-48\"/>\n",
       "       <use x=\"111.230469\" xlink:href=\"#ArialMT-48\"/>\n",
       "       <use x=\"166.845703\" xlink:href=\"#ArialMT-48\"/>\n",
       "      </g>\n",
       "     </g>\n",
       "    </g>\n",
       "    <g id=\"xtick_5\">\n",
       "     <g id=\"text_5\">\n",
       "      <!-- 4000 -->\n",
       "      <defs>\n",
       "       <path d=\"M 32.328125 0 \n",
       "L 32.328125 17.140625 \n",
       "L 1.265625 17.140625 \n",
       "L 1.265625 25.203125 \n",
       "L 33.9375 71.578125 \n",
       "L 41.109375 71.578125 \n",
       "L 41.109375 25.203125 \n",
       "L 50.78125 25.203125 \n",
       "L 50.78125 17.140625 \n",
       "L 41.109375 17.140625 \n",
       "L 41.109375 0 \n",
       "z\n",
       "M 32.328125 25.203125 \n",
       "L 32.328125 57.46875 \n",
       "L 9.90625 25.203125 \n",
       "z\n",
       "\" id=\"ArialMT-52\"/>\n",
       "      </defs>\n",
       "      <g style=\"fill:#262626;\" transform=\"translate(297.675835 253.387188)scale(0.1 -0.1)\">\n",
       "       <use xlink:href=\"#ArialMT-52\"/>\n",
       "       <use x=\"55.615234\" xlink:href=\"#ArialMT-48\"/>\n",
       "       <use x=\"111.230469\" xlink:href=\"#ArialMT-48\"/>\n",
       "       <use x=\"166.845703\" xlink:href=\"#ArialMT-48\"/>\n",
       "      </g>\n",
       "     </g>\n",
       "    </g>\n",
       "    <g id=\"text_6\">\n",
       "     <!-- entry_delta -->\n",
       "     <defs>\n",
       "      <path d=\"M 42.09375 16.703125 \n",
       "L 51.171875 15.578125 \n",
       "Q 49.03125 7.625 43.21875 3.21875 \n",
       "Q 37.40625 -1.171875 28.375 -1.171875 \n",
       "Q 17 -1.171875 10.328125 5.828125 \n",
       "Q 3.65625 12.84375 3.65625 25.484375 \n",
       "Q 3.65625 38.578125 10.390625 45.796875 \n",
       "Q 17.140625 53.03125 27.875 53.03125 \n",
       "Q 38.28125 53.03125 44.875 45.953125 \n",
       "Q 51.46875 38.875 51.46875 26.03125 \n",
       "Q 51.46875 25.25 51.421875 23.6875 \n",
       "L 12.75 23.6875 \n",
       "Q 13.234375 15.140625 17.578125 10.59375 \n",
       "Q 21.921875 6.0625 28.421875 6.0625 \n",
       "Q 33.25 6.0625 36.671875 8.59375 \n",
       "Q 40.09375 11.140625 42.09375 16.703125 \n",
       "z\n",
       "M 13.234375 30.90625 \n",
       "L 42.1875 30.90625 \n",
       "Q 41.609375 37.453125 38.875 40.71875 \n",
       "Q 34.671875 45.796875 27.984375 45.796875 \n",
       "Q 21.921875 45.796875 17.796875 41.75 \n",
       "Q 13.671875 37.703125 13.234375 30.90625 \n",
       "z\n",
       "\" id=\"ArialMT-101\"/>\n",
       "      <path d=\"M 6.59375 0 \n",
       "L 6.59375 51.859375 \n",
       "L 14.5 51.859375 \n",
       "L 14.5 44.484375 \n",
       "Q 20.21875 53.03125 31 53.03125 \n",
       "Q 35.6875 53.03125 39.625 51.34375 \n",
       "Q 43.5625 49.65625 45.515625 46.921875 \n",
       "Q 47.46875 44.1875 48.25 40.4375 \n",
       "Q 48.734375 37.984375 48.734375 31.890625 \n",
       "L 48.734375 0 \n",
       "L 39.9375 0 \n",
       "L 39.9375 31.546875 \n",
       "Q 39.9375 36.921875 38.90625 39.578125 \n",
       "Q 37.890625 42.234375 35.28125 43.8125 \n",
       "Q 32.671875 45.40625 29.15625 45.40625 \n",
       "Q 23.53125 45.40625 19.453125 41.84375 \n",
       "Q 15.375 38.28125 15.375 28.328125 \n",
       "L 15.375 0 \n",
       "z\n",
       "\" id=\"ArialMT-110\"/>\n",
       "      <path d=\"M 25.78125 7.859375 \n",
       "L 27.046875 0.09375 \n",
       "Q 23.34375 -0.6875 20.40625 -0.6875 \n",
       "Q 15.625 -0.6875 12.984375 0.828125 \n",
       "Q 10.359375 2.34375 9.28125 4.8125 \n",
       "Q 8.203125 7.28125 8.203125 15.1875 \n",
       "L 8.203125 45.015625 \n",
       "L 1.765625 45.015625 \n",
       "L 1.765625 51.859375 \n",
       "L 8.203125 51.859375 \n",
       "L 8.203125 64.703125 \n",
       "L 16.9375 69.96875 \n",
       "L 16.9375 51.859375 \n",
       "L 25.78125 51.859375 \n",
       "L 25.78125 45.015625 \n",
       "L 16.9375 45.015625 \n",
       "L 16.9375 14.703125 \n",
       "Q 16.9375 10.9375 17.40625 9.859375 \n",
       "Q 17.875 8.796875 18.921875 8.15625 \n",
       "Q 19.96875 7.515625 21.921875 7.515625 \n",
       "Q 23.390625 7.515625 25.78125 7.859375 \n",
       "z\n",
       "\" id=\"ArialMT-116\"/>\n",
       "      <path d=\"M 6.5 0 \n",
       "L 6.5 51.859375 \n",
       "L 14.40625 51.859375 \n",
       "L 14.40625 44 \n",
       "Q 17.4375 49.515625 20 51.265625 \n",
       "Q 22.5625 53.03125 25.640625 53.03125 \n",
       "Q 30.078125 53.03125 34.671875 50.203125 \n",
       "L 31.640625 42.046875 \n",
       "Q 28.421875 43.953125 25.203125 43.953125 \n",
       "Q 22.3125 43.953125 20.015625 42.21875 \n",
       "Q 17.71875 40.484375 16.75 37.40625 \n",
       "Q 15.28125 32.71875 15.28125 27.15625 \n",
       "L 15.28125 0 \n",
       "z\n",
       "\" id=\"ArialMT-114\"/>\n",
       "      <path d=\"M 6.203125 -19.96875 \n",
       "L 5.21875 -11.71875 \n",
       "Q 8.109375 -12.5 10.25 -12.5 \n",
       "Q 13.1875 -12.5 14.9375 -11.515625 \n",
       "Q 16.703125 -10.546875 17.828125 -8.796875 \n",
       "Q 18.65625 -7.46875 20.515625 -2.25 \n",
       "Q 20.75 -1.515625 21.296875 -0.09375 \n",
       "L 1.609375 51.859375 \n",
       "L 11.078125 51.859375 \n",
       "L 21.875 21.828125 \n",
       "Q 23.96875 16.109375 25.640625 9.8125 \n",
       "Q 27.15625 15.875 29.25 21.625 \n",
       "L 40.328125 51.859375 \n",
       "L 49.125 51.859375 \n",
       "L 29.390625 -0.875 \n",
       "Q 26.21875 -9.421875 24.46875 -12.640625 \n",
       "Q 22.125 -17 19.09375 -19.015625 \n",
       "Q 16.0625 -21.046875 11.859375 -21.046875 \n",
       "Q 9.328125 -21.046875 6.203125 -19.96875 \n",
       "z\n",
       "\" id=\"ArialMT-121\"/>\n",
       "      <path d=\"M -1.515625 -19.875 \n",
       "L -1.515625 -13.53125 \n",
       "L 56.734375 -13.53125 \n",
       "L 56.734375 -19.875 \n",
       "z\n",
       "\" id=\"ArialMT-95\"/>\n",
       "      <path d=\"M 40.234375 0 \n",
       "L 40.234375 6.546875 \n",
       "Q 35.296875 -1.171875 25.734375 -1.171875 \n",
       "Q 19.53125 -1.171875 14.328125 2.25 \n",
       "Q 9.125 5.671875 6.265625 11.796875 \n",
       "Q 3.421875 17.921875 3.421875 25.875 \n",
       "Q 3.421875 33.640625 6 39.96875 \n",
       "Q 8.59375 46.296875 13.765625 49.65625 \n",
       "Q 18.953125 53.03125 25.34375 53.03125 \n",
       "Q 30.03125 53.03125 33.6875 51.046875 \n",
       "Q 37.359375 49.078125 39.65625 45.90625 \n",
       "L 39.65625 71.578125 \n",
       "L 48.390625 71.578125 \n",
       "L 48.390625 0 \n",
       "z\n",
       "M 12.453125 25.875 \n",
       "Q 12.453125 15.921875 16.640625 10.984375 \n",
       "Q 20.84375 6.0625 26.5625 6.0625 \n",
       "Q 32.328125 6.0625 36.34375 10.765625 \n",
       "Q 40.375 15.484375 40.375 25.140625 \n",
       "Q 40.375 35.796875 36.265625 40.765625 \n",
       "Q 32.171875 45.75 26.171875 45.75 \n",
       "Q 20.3125 45.75 16.375 40.96875 \n",
       "Q 12.453125 36.1875 12.453125 25.875 \n",
       "z\n",
       "\" id=\"ArialMT-100\"/>\n",
       "      <path d=\"M 6.390625 0 \n",
       "L 6.390625 71.578125 \n",
       "L 15.1875 71.578125 \n",
       "L 15.1875 0 \n",
       "z\n",
       "\" id=\"ArialMT-108\"/>\n",
       "      <path d=\"M 40.4375 6.390625 \n",
       "Q 35.546875 2.25 31.03125 0.53125 \n",
       "Q 26.515625 -1.171875 21.34375 -1.171875 \n",
       "Q 12.796875 -1.171875 8.203125 3 \n",
       "Q 3.609375 7.171875 3.609375 13.671875 \n",
       "Q 3.609375 17.484375 5.34375 20.625 \n",
       "Q 7.078125 23.78125 9.890625 25.6875 \n",
       "Q 12.703125 27.59375 16.21875 28.5625 \n",
       "Q 18.796875 29.25 24.03125 29.890625 \n",
       "Q 34.671875 31.15625 39.703125 32.90625 \n",
       "Q 39.75 34.71875 39.75 35.203125 \n",
       "Q 39.75 40.578125 37.25 42.78125 \n",
       "Q 33.890625 45.75 27.25 45.75 \n",
       "Q 21.046875 45.75 18.09375 43.578125 \n",
       "Q 15.140625 41.40625 13.71875 35.890625 \n",
       "L 5.125 37.0625 \n",
       "Q 6.296875 42.578125 8.984375 45.96875 \n",
       "Q 11.671875 49.359375 16.75 51.1875 \n",
       "Q 21.828125 53.03125 28.515625 53.03125 \n",
       "Q 35.15625 53.03125 39.296875 51.46875 \n",
       "Q 43.453125 49.90625 45.40625 47.53125 \n",
       "Q 47.359375 45.171875 48.140625 41.546875 \n",
       "Q 48.578125 39.3125 48.578125 33.453125 \n",
       "L 48.578125 21.734375 \n",
       "Q 48.578125 9.46875 49.140625 6.21875 \n",
       "Q 49.703125 2.984375 51.375 0 \n",
       "L 42.1875 0 \n",
       "Q 40.828125 2.734375 40.4375 6.390625 \n",
       "z\n",
       "M 39.703125 26.03125 \n",
       "Q 34.90625 24.078125 25.34375 22.703125 \n",
       "Q 19.921875 21.921875 17.671875 20.9375 \n",
       "Q 15.4375 19.96875 14.203125 18.09375 \n",
       "Q 12.984375 16.21875 12.984375 13.921875 \n",
       "Q 12.984375 10.40625 15.640625 8.0625 \n",
       "Q 18.3125 5.71875 23.4375 5.71875 \n",
       "Q 28.515625 5.71875 32.46875 7.9375 \n",
       "Q 36.421875 10.15625 38.28125 14.015625 \n",
       "Q 39.703125 17 39.703125 22.796875 \n",
       "z\n",
       "\" id=\"ArialMT-97\"/>\n",
       "     </defs>\n",
       "     <g style=\"fill:#262626;\" transform=\"translate(153.363281 266.5325)scale(0.1 -0.1)\">\n",
       "      <use xlink:href=\"#ArialMT-101\"/>\n",
       "      <use x=\"55.615234\" xlink:href=\"#ArialMT-110\"/>\n",
       "      <use x=\"111.230469\" xlink:href=\"#ArialMT-116\"/>\n",
       "      <use x=\"139.013672\" xlink:href=\"#ArialMT-114\"/>\n",
       "      <use x=\"172.314453\" xlink:href=\"#ArialMT-121\"/>\n",
       "      <use x=\"222.314453\" xlink:href=\"#ArialMT-95\"/>\n",
       "      <use x=\"277.929688\" xlink:href=\"#ArialMT-100\"/>\n",
       "      <use x=\"333.544922\" xlink:href=\"#ArialMT-101\"/>\n",
       "      <use x=\"389.160156\" xlink:href=\"#ArialMT-108\"/>\n",
       "      <use x=\"411.376953\" xlink:href=\"#ArialMT-116\"/>\n",
       "      <use x=\"439.160156\" xlink:href=\"#ArialMT-97\"/>\n",
       "     </g>\n",
       "    </g>\n",
       "   </g>\n",
       "   <g id=\"matplotlib.axis_2\"/>\n",
       "   <g id=\"line2d_1\">\n",
       "    <path clip-path=\"url(#pc7c084702e)\" d=\"M 25.918182 232.921937 \n",
       "L 28.314746 239.229375 \n",
       "L 30.71131 108.948718 \n",
       "L 33.107874 32.143661 \n",
       "L 35.504438 85.798566 \n",
       "L 37.901002 103.463906 \n",
       "L 40.297566 125.096828 \n",
       "L 45.090694 154.754957 \n",
       "L 47.487258 167.801191 \n",
       "L 49.883822 177.359337 \n",
       "L 52.280387 185.121989 \n",
       "L 54.676951 191.84212 \n",
       "L 57.073515 197.224879 \n",
       "L 59.470079 202.070843 \n",
       "L 61.866643 206.382991 \n",
       "L 64.263207 209.574883 \n",
       "L 66.659771 213.071919 \n",
       "L 69.056335 216.05425 \n",
       "L 71.452899 219.421717 \n",
       "L 73.849463 221.894627 \n",
       "L 76.246027 223.805759 \n",
       "L 78.642591 225.392418 \n",
       "L 81.039155 227.495243 \n",
       "L 83.435719 228.682226 \n",
       "L 85.832283 230.152431 \n",
       "L 88.228848 231.019674 \n",
       "L 90.625412 232.120552 \n",
       "L 93.021976 232.678024 \n",
       "L 100.211668 234.803852 \n",
       "L 102.608232 235.147685 \n",
       "L 107.40136 236.078025 \n",
       "L 114.591052 237.043092 \n",
       "L 133.763565 238.145355 \n",
       "L 136.160129 238.169309 \n",
       "L 138.556693 238.345875 \n",
       "L 140.953257 238.324689 \n",
       "L 143.349821 238.475195 \n",
       "L 145.746385 238.498583 \n",
       "L 150.539513 238.700928 \n",
       "L 155.332641 238.826477 \n",
       "L 162.522334 239.02243 \n",
       "L 169.712026 239.04979 \n",
       "L 176.901718 239.120684 \n",
       "L 184.09141 239.080478 \n",
       "L 191.281102 239.151195 \n",
       "L 198.470795 239.131357 \n",
       "L 205.660487 239.207918 \n",
       "L 210.453615 239.212092 \n",
       "L 217.643307 239.178938 \n",
       "L 224.832999 239.229375 \n",
       "L 232.022691 239.187655 \n",
       "L 239.212384 239.229375 \n",
       "L 246.402076 239.188833 \n",
       "L 253.591768 239.229375 \n",
       "L 260.78146 239.179703 \n",
       "L 267.971152 239.229375 \n",
       "L 270.367717 239.16686 \n",
       "L 272.764281 239.229375 \n",
       "L 275.160845 239.156605 \n",
       "L 277.557409 239.229375 \n",
       "L 279.953973 239.145447 \n",
       "L 282.350537 239.229375 \n",
       "L 284.747101 239.129784 \n",
       "L 287.143665 239.229375 \n",
       "L 289.540229 239.108872 \n",
       "L 291.936793 239.229375 \n",
       "L 294.333357 239.080722 \n",
       "L 296.729921 239.229375 \n",
       "L 299.126485 239.040784 \n",
       "L 301.523049 239.229375 \n",
       "L 303.919613 238.9828 \n",
       "L 306.316178 239.229375 \n",
       "L 308.712742 238.894413 \n",
       "L 311.109306 239.229375 \n",
       "L 313.50587 238.75133 \n",
       "L 315.902434 239.229375 \n",
       "L 318.298998 238.500291 \n",
       "L 320.695562 239.229375 \n",
       "L 323.092126 238.006054 \n",
       "L 325.48869 239.229375 \n",
       "L 327.885254 236.836812 \n",
       "L 330.281818 239.229375 \n",
       "L 330.281818 239.229375 \n",
       "\" style=\"fill:none;stroke:#1f77b4;stroke-linecap:round;stroke-width:1.5;\"/>\n",
       "   </g>\n",
       "   <g id=\"patch_3\">\n",
       "    <path d=\"M 10.7 239.229375 \n",
       "L 10.7 21.789375 \n",
       "\" style=\"fill:none;stroke:#262626;stroke-linecap:square;stroke-linejoin:miter;stroke-width:0.8;\"/>\n",
       "   </g>\n",
       "   <g id=\"patch_4\">\n",
       "    <path d=\"M 10.7 239.229375 \n",
       "L 345.5 239.229375 \n",
       "\" style=\"fill:none;stroke:#262626;stroke-linecap:square;stroke-linejoin:miter;stroke-width:0.8;\"/>\n",
       "   </g>\n",
       "   <g id=\"text_7\">\n",
       "    <!-- Cleaned Entries Data -->\n",
       "    <defs>\n",
       "     <path d=\"M 58.796875 25.09375 \n",
       "L 68.265625 22.703125 \n",
       "Q 65.28125 11.03125 57.546875 4.90625 \n",
       "Q 49.8125 -1.21875 38.625 -1.21875 \n",
       "Q 27.046875 -1.21875 19.796875 3.484375 \n",
       "Q 12.546875 8.203125 8.765625 17.140625 \n",
       "Q 4.984375 26.078125 4.984375 36.328125 \n",
       "Q 4.984375 47.515625 9.25 55.828125 \n",
       "Q 13.53125 64.15625 21.40625 68.46875 \n",
       "Q 29.296875 72.796875 38.765625 72.796875 \n",
       "Q 49.515625 72.796875 56.828125 67.328125 \n",
       "Q 64.15625 61.859375 67.046875 51.953125 \n",
       "L 57.71875 49.75 \n",
       "Q 55.21875 57.5625 50.484375 61.125 \n",
       "Q 45.75 64.703125 38.578125 64.703125 \n",
       "Q 30.328125 64.703125 24.78125 60.734375 \n",
       "Q 19.234375 56.78125 16.984375 50.109375 \n",
       "Q 14.75 43.453125 14.75 36.375 \n",
       "Q 14.75 27.25 17.40625 20.4375 \n",
       "Q 20.0625 13.625 25.671875 10.25 \n",
       "Q 31.296875 6.890625 37.84375 6.890625 \n",
       "Q 45.796875 6.890625 51.3125 11.46875 \n",
       "Q 56.84375 16.0625 58.796875 25.09375 \n",
       "z\n",
       "\" id=\"ArialMT-67\"/>\n",
       "     <path id=\"ArialMT-32\"/>\n",
       "     <path d=\"M 7.90625 0 \n",
       "L 7.90625 71.578125 \n",
       "L 59.671875 71.578125 \n",
       "L 59.671875 63.140625 \n",
       "L 17.390625 63.140625 \n",
       "L 17.390625 41.21875 \n",
       "L 56.984375 41.21875 \n",
       "L 56.984375 32.8125 \n",
       "L 17.390625 32.8125 \n",
       "L 17.390625 8.453125 \n",
       "L 61.328125 8.453125 \n",
       "L 61.328125 0 \n",
       "z\n",
       "\" id=\"ArialMT-69\"/>\n",
       "     <path d=\"M 6.640625 61.46875 \n",
       "L 6.640625 71.578125 \n",
       "L 15.4375 71.578125 \n",
       "L 15.4375 61.46875 \n",
       "z\n",
       "M 6.640625 0 \n",
       "L 6.640625 51.859375 \n",
       "L 15.4375 51.859375 \n",
       "L 15.4375 0 \n",
       "z\n",
       "\" id=\"ArialMT-105\"/>\n",
       "     <path d=\"M 3.078125 15.484375 \n",
       "L 11.765625 16.84375 \n",
       "Q 12.5 11.625 15.84375 8.84375 \n",
       "Q 19.1875 6.0625 25.203125 6.0625 \n",
       "Q 31.25 6.0625 34.171875 8.515625 \n",
       "Q 37.109375 10.984375 37.109375 14.3125 \n",
       "Q 37.109375 17.28125 34.515625 19 \n",
       "Q 32.71875 20.171875 25.53125 21.96875 \n",
       "Q 15.875 24.421875 12.140625 26.203125 \n",
       "Q 8.40625 27.984375 6.46875 31.125 \n",
       "Q 4.546875 34.28125 4.546875 38.09375 \n",
       "Q 4.546875 41.546875 6.125 44.5 \n",
       "Q 7.71875 47.46875 10.453125 49.421875 \n",
       "Q 12.5 50.921875 16.03125 51.96875 \n",
       "Q 19.578125 53.03125 23.640625 53.03125 \n",
       "Q 29.734375 53.03125 34.34375 51.265625 \n",
       "Q 38.96875 49.515625 41.15625 46.5 \n",
       "Q 43.359375 43.5 44.1875 38.484375 \n",
       "L 35.59375 37.3125 \n",
       "Q 35.015625 41.3125 32.203125 43.546875 \n",
       "Q 29.390625 45.796875 24.265625 45.796875 \n",
       "Q 18.21875 45.796875 15.625 43.796875 \n",
       "Q 13.03125 41.796875 13.03125 39.109375 \n",
       "Q 13.03125 37.40625 14.109375 36.03125 \n",
       "Q 15.1875 34.625 17.484375 33.6875 \n",
       "Q 18.796875 33.203125 25.25 31.453125 \n",
       "Q 34.578125 28.953125 38.25 27.359375 \n",
       "Q 41.9375 25.78125 44.03125 22.75 \n",
       "Q 46.140625 19.734375 46.140625 15.234375 \n",
       "Q 46.140625 10.84375 43.578125 6.953125 \n",
       "Q 41.015625 3.078125 36.171875 0.953125 \n",
       "Q 31.34375 -1.171875 25.25 -1.171875 \n",
       "Q 15.140625 -1.171875 9.84375 3.03125 \n",
       "Q 4.546875 7.234375 3.078125 15.484375 \n",
       "z\n",
       "\" id=\"ArialMT-115\"/>\n",
       "     <path d=\"M 7.71875 0 \n",
       "L 7.71875 71.578125 \n",
       "L 32.375 71.578125 \n",
       "Q 40.71875 71.578125 45.125 70.5625 \n",
       "Q 51.265625 69.140625 55.609375 65.4375 \n",
       "Q 61.28125 60.640625 64.078125 53.1875 \n",
       "Q 66.890625 45.75 66.890625 36.1875 \n",
       "Q 66.890625 28.03125 64.984375 21.734375 \n",
       "Q 63.09375 15.4375 60.109375 11.296875 \n",
       "Q 57.125 7.171875 53.578125 4.796875 \n",
       "Q 50.046875 2.4375 45.046875 1.21875 \n",
       "Q 40.046875 0 33.546875 0 \n",
       "z\n",
       "M 17.1875 8.453125 \n",
       "L 32.46875 8.453125 \n",
       "Q 39.546875 8.453125 43.578125 9.765625 \n",
       "Q 47.609375 11.078125 50 13.484375 \n",
       "Q 53.375 16.84375 55.25 22.53125 \n",
       "Q 57.125 28.21875 57.125 36.328125 \n",
       "Q 57.125 47.5625 53.4375 53.59375 \n",
       "Q 49.75 59.625 44.484375 61.671875 \n",
       "Q 40.671875 63.140625 32.234375 63.140625 \n",
       "L 17.1875 63.140625 \n",
       "z\n",
       "\" id=\"ArialMT-68\"/>\n",
       "    </defs>\n",
       "    <g style=\"fill:#262626;\" transform=\"translate(121.070938 15.789375)scale(0.12 -0.12)\">\n",
       "     <use xlink:href=\"#ArialMT-67\"/>\n",
       "     <use x=\"72.216797\" xlink:href=\"#ArialMT-108\"/>\n",
       "     <use x=\"94.433594\" xlink:href=\"#ArialMT-101\"/>\n",
       "     <use x=\"150.048828\" xlink:href=\"#ArialMT-97\"/>\n",
       "     <use x=\"205.664062\" xlink:href=\"#ArialMT-110\"/>\n",
       "     <use x=\"261.279297\" xlink:href=\"#ArialMT-101\"/>\n",
       "     <use x=\"316.894531\" xlink:href=\"#ArialMT-100\"/>\n",
       "     <use x=\"372.509766\" xlink:href=\"#ArialMT-32\"/>\n",
       "     <use x=\"400.292969\" xlink:href=\"#ArialMT-69\"/>\n",
       "     <use x=\"466.992188\" xlink:href=\"#ArialMT-110\"/>\n",
       "     <use x=\"522.607422\" xlink:href=\"#ArialMT-116\"/>\n",
       "     <use x=\"550.390625\" xlink:href=\"#ArialMT-114\"/>\n",
       "     <use x=\"583.691406\" xlink:href=\"#ArialMT-105\"/>\n",
       "     <use x=\"605.908203\" xlink:href=\"#ArialMT-101\"/>\n",
       "     <use x=\"661.523438\" xlink:href=\"#ArialMT-115\"/>\n",
       "     <use x=\"711.523438\" xlink:href=\"#ArialMT-32\"/>\n",
       "     <use x=\"739.306641\" xlink:href=\"#ArialMT-68\"/>\n",
       "     <use x=\"811.523438\" xlink:href=\"#ArialMT-97\"/>\n",
       "     <use x=\"867.138672\" xlink:href=\"#ArialMT-116\"/>\n",
       "     <use x=\"894.921875\" xlink:href=\"#ArialMT-97\"/>\n",
       "    </g>\n",
       "   </g>\n",
       "  </g>\n",
       " </g>\n",
       " <defs>\n",
       "  <clipPath id=\"pc7c084702e\">\n",
       "   <rect height=\"217.44\" width=\"334.8\" x=\"10.7\" y=\"21.789375\"/>\n",
       "  </clipPath>\n",
       " </defs>\n",
       "</svg>\n"
      ],
      "text/plain": [
       "<Figure size 432x288 with 1 Axes>"
      ]
     },
     "metadata": {},
     "output_type": "display_data"
    }
   ],
   "source": [
    "%config InlineBackend.figure_format = 'svg'\n",
    "%matplotlib inline\n",
    "\n",
    "sns.set_style(\"white\")\n",
    "sns.distplot(data.entry_delta, hist=False)\n",
    "plt.title(\"Cleaned Entries Data\")\n",
    "ax = plt.axes()\n",
    "ax.spines['top'].set_visible(False)\n",
    "ax.spines['right'].set_visible(False)\n",
    "ax.get_yaxis().set_ticks([])\n",
    "\n",
    "filename = \"./plots/final_kde.svg\"\n",
    "plt.savefig(filename)\n",
    "plt.show()"
   ]
  },
  {
   "cell_type": "code",
   "execution_count": 41,
   "metadata": {},
   "outputs": [
    {
     "data": {
      "text/plain": [
       "<matplotlib.axes._subplots.AxesSubplot at 0x1302a7b00>"
      ]
     },
     "execution_count": 41,
     "metadata": {},
     "output_type": "execute_result"
    },
    {
     "data": {
      "image/png": "[encoded data removed]",
      "text/plain": [
       "<Figure size 432x288 with 1 Axes>"
      ]
     },
     "metadata": {
      "needs_background": "light"
     },
     "output_type": "display_data"
    }
   ],
   "source": [
    "\n",
    "sns.distplot(data.exit_delta, hist=False)"
   ]
  },
  {
   "cell_type": "code",
   "execution_count": 33,
   "metadata": {},
   "outputs": [
    {
     "data": {
      "text/html": [
       "<div>\n",
       "<style scoped>\n",
       "    .dataframe tbody tr th:only-of-type {\n",
       "        vertical-align: middle;\n",
       "    }\n",
       "\n",
       "    .dataframe tbody tr th {\n",
       "        vertical-align: top;\n",
       "    }\n",
       "\n",
       "    .dataframe thead th {\n",
       "        text-align: right;\n",
       "    }\n",
       "</style>\n",
       "<table border=\"1\" class=\"dataframe\">\n",
       "  <thead>\n",
       "    <tr style=\"text-align: right;\">\n",
       "      <th></th>\n",
       "      <th>C/A</th>\n",
       "      <th>Unit</th>\n",
       "      <th>SCP</th>\n",
       "      <th>Station</th>\n",
       "      <th>Description</th>\n",
       "      <th>Entries</th>\n",
       "      <th>Exits</th>\n",
       "      <th>ts_id</th>\n",
       "      <th>b_weekday</th>\n",
       "      <th>Weekday</th>\n",
       "      <th>entry_delta</th>\n",
       "      <th>exit_delta</th>\n",
       "      <th>time_delta</th>\n",
       "    </tr>\n",
       "    <tr>\n",
       "      <th>date_time</th>\n",
       "      <th></th>\n",
       "      <th></th>\n",
       "      <th></th>\n",
       "      <th></th>\n",
       "      <th></th>\n",
       "      <th></th>\n",
       "      <th></th>\n",
       "      <th></th>\n",
       "      <th></th>\n",
       "      <th></th>\n",
       "      <th></th>\n",
       "      <th></th>\n",
       "      <th></th>\n",
       "    </tr>\n",
       "  </thead>\n",
       "  <tbody>\n",
       "    <tr>\n",
       "      <th>2018-04-01 01:00:00</th>\n",
       "      <td>A066</td>\n",
       "      <td>R118</td>\n",
       "      <td>00-00-00</td>\n",
       "      <td>CANAL ST</td>\n",
       "      <td>REGULAR</td>\n",
       "      <td>1725409717</td>\n",
       "      <td>1762470130</td>\n",
       "      <td>R118_00-00-00</td>\n",
       "      <td>False</td>\n",
       "      <td>Sunday</td>\n",
       "      <td>NaN</td>\n",
       "      <td>NaN</td>\n",
       "      <td>NaT</td>\n",
       "    </tr>\n",
       "    <tr>\n",
       "      <th>2018-04-01 05:00:00</th>\n",
       "      <td>A066</td>\n",
       "      <td>R118</td>\n",
       "      <td>00-00-00</td>\n",
       "      <td>CANAL ST</td>\n",
       "      <td>REGULAR</td>\n",
       "      <td>1725409694</td>\n",
       "      <td>1762470144</td>\n",
       "      <td>R118_00-00-00</td>\n",
       "      <td>False</td>\n",
       "      <td>Sunday</td>\n",
       "      <td>23.0</td>\n",
       "      <td>14.0</td>\n",
       "      <td>04:00:00</td>\n",
       "    </tr>\n",
       "    <tr>\n",
       "      <th>2018-04-01 09:00:00</th>\n",
       "      <td>A066</td>\n",
       "      <td>R118</td>\n",
       "      <td>00-00-00</td>\n",
       "      <td>CANAL ST</td>\n",
       "      <td>REGULAR</td>\n",
       "      <td>1725409623</td>\n",
       "      <td>1762470212</td>\n",
       "      <td>R118_00-00-00</td>\n",
       "      <td>False</td>\n",
       "      <td>Sunday</td>\n",
       "      <td>71.0</td>\n",
       "      <td>68.0</td>\n",
       "      <td>04:00:00</td>\n",
       "    </tr>\n",
       "    <tr>\n",
       "      <th>2018-04-01 13:00:00</th>\n",
       "      <td>A066</td>\n",
       "      <td>R118</td>\n",
       "      <td>00-00-00</td>\n",
       "      <td>CANAL ST</td>\n",
       "      <td>REGULAR</td>\n",
       "      <td>1725409308</td>\n",
       "      <td>1762470329</td>\n",
       "      <td>R118_00-00-00</td>\n",
       "      <td>False</td>\n",
       "      <td>Sunday</td>\n",
       "      <td>315.0</td>\n",
       "      <td>117.0</td>\n",
       "      <td>04:00:00</td>\n",
       "    </tr>\n",
       "    <tr>\n",
       "      <th>2018-04-01 17:00:00</th>\n",
       "      <td>A066</td>\n",
       "      <td>R118</td>\n",
       "      <td>00-00-00</td>\n",
       "      <td>CANAL ST</td>\n",
       "      <td>REGULAR</td>\n",
       "      <td>1725408445</td>\n",
       "      <td>1762470504</td>\n",
       "      <td>R118_00-00-00</td>\n",
       "      <td>False</td>\n",
       "      <td>Sunday</td>\n",
       "      <td>863.0</td>\n",
       "      <td>175.0</td>\n",
       "      <td>04:00:00</td>\n",
       "    </tr>\n",
       "    <tr>\n",
       "      <th>2018-04-01 21:00:00</th>\n",
       "      <td>A066</td>\n",
       "      <td>R118</td>\n",
       "      <td>00-00-00</td>\n",
       "      <td>CANAL ST</td>\n",
       "      <td>REGULAR</td>\n",
       "      <td>1725407495</td>\n",
       "      <td>1762470865</td>\n",
       "      <td>R118_00-00-00</td>\n",
       "      <td>False</td>\n",
       "      <td>Sunday</td>\n",
       "      <td>950.0</td>\n",
       "      <td>361.0</td>\n",
       "      <td>04:00:00</td>\n",
       "    </tr>\n",
       "    <tr>\n",
       "      <th>2018-04-02 01:00:00</th>\n",
       "      <td>A066</td>\n",
       "      <td>R118</td>\n",
       "      <td>00-00-00</td>\n",
       "      <td>CANAL ST</td>\n",
       "      <td>REGULAR</td>\n",
       "      <td>1725407223</td>\n",
       "      <td>1762470932</td>\n",
       "      <td>R118_00-00-00</td>\n",
       "      <td>True</td>\n",
       "      <td>Monday</td>\n",
       "      <td>272.0</td>\n",
       "      <td>67.0</td>\n",
       "      <td>04:00:00</td>\n",
       "    </tr>\n",
       "    <tr>\n",
       "      <th>2018-04-02 05:00:00</th>\n",
       "      <td>A066</td>\n",
       "      <td>R118</td>\n",
       "      <td>00-00-00</td>\n",
       "      <td>CANAL ST</td>\n",
       "      <td>REGULAR</td>\n",
       "      <td>1725407210</td>\n",
       "      <td>1762470947</td>\n",
       "      <td>R118_00-00-00</td>\n",
       "      <td>True</td>\n",
       "      <td>Monday</td>\n",
       "      <td>13.0</td>\n",
       "      <td>15.0</td>\n",
       "      <td>04:00:00</td>\n",
       "    </tr>\n",
       "    <tr>\n",
       "      <th>2018-04-02 09:00:00</th>\n",
       "      <td>A066</td>\n",
       "      <td>R118</td>\n",
       "      <td>00-00-00</td>\n",
       "      <td>CANAL ST</td>\n",
       "      <td>REGULAR</td>\n",
       "      <td>1725407120</td>\n",
       "      <td>1762471124</td>\n",
       "      <td>R118_00-00-00</td>\n",
       "      <td>True</td>\n",
       "      <td>Monday</td>\n",
       "      <td>90.0</td>\n",
       "      <td>177.0</td>\n",
       "      <td>04:00:00</td>\n",
       "    </tr>\n",
       "    <tr>\n",
       "      <th>2018-04-02 13:00:00</th>\n",
       "      <td>A066</td>\n",
       "      <td>R118</td>\n",
       "      <td>00-00-00</td>\n",
       "      <td>CANAL ST</td>\n",
       "      <td>REGULAR</td>\n",
       "      <td>1725406724</td>\n",
       "      <td>1762471446</td>\n",
       "      <td>R118_00-00-00</td>\n",
       "      <td>True</td>\n",
       "      <td>Monday</td>\n",
       "      <td>396.0</td>\n",
       "      <td>322.0</td>\n",
       "      <td>04:00:00</td>\n",
       "    </tr>\n",
       "  </tbody>\n",
       "</table>\n",
       "</div>"
      ],
      "text/plain": [
       "                      C/A  Unit       SCP   Station Description     Entries  \\\n",
       "date_time                                                                     \n",
       "2018-04-01 01:00:00  A066  R118  00-00-00  CANAL ST     REGULAR  1725409717   \n",
       "2018-04-01 05:00:00  A066  R118  00-00-00  CANAL ST     REGULAR  1725409694   \n",
       "2018-04-01 09:00:00  A066  R118  00-00-00  CANAL ST     REGULAR  1725409623   \n",
       "2018-04-01 13:00:00  A066  R118  00-00-00  CANAL ST     REGULAR  1725409308   \n",
       "2018-04-01 17:00:00  A066  R118  00-00-00  CANAL ST     REGULAR  1725408445   \n",
       "2018-04-01 21:00:00  A066  R118  00-00-00  CANAL ST     REGULAR  1725407495   \n",
       "2018-04-02 01:00:00  A066  R118  00-00-00  CANAL ST     REGULAR  1725407223   \n",
       "2018-04-02 05:00:00  A066  R118  00-00-00  CANAL ST     REGULAR  1725407210   \n",
       "2018-04-02 09:00:00  A066  R118  00-00-00  CANAL ST     REGULAR  1725407120   \n",
       "2018-04-02 13:00:00  A066  R118  00-00-00  CANAL ST     REGULAR  1725406724   \n",
       "\n",
       "                          Exits          ts_id  b_weekday Weekday  \\\n",
       "date_time                                                           \n",
       "2018-04-01 01:00:00  1762470130  R118_00-00-00      False  Sunday   \n",
       "2018-04-01 05:00:00  1762470144  R118_00-00-00      False  Sunday   \n",
       "2018-04-01 09:00:00  1762470212  R118_00-00-00      False  Sunday   \n",
       "2018-04-01 13:00:00  1762470329  R118_00-00-00      False  Sunday   \n",
       "2018-04-01 17:00:00  1762470504  R118_00-00-00      False  Sunday   \n",
       "2018-04-01 21:00:00  1762470865  R118_00-00-00      False  Sunday   \n",
       "2018-04-02 01:00:00  1762470932  R118_00-00-00       True  Monday   \n",
       "2018-04-02 05:00:00  1762470947  R118_00-00-00       True  Monday   \n",
       "2018-04-02 09:00:00  1762471124  R118_00-00-00       True  Monday   \n",
       "2018-04-02 13:00:00  1762471446  R118_00-00-00       True  Monday   \n",
       "\n",
       "                     entry_delta  exit_delta time_delta  \n",
       "date_time                                                \n",
       "2018-04-01 01:00:00          NaN         NaN        NaT  \n",
       "2018-04-01 05:00:00         23.0        14.0   04:00:00  \n",
       "2018-04-01 09:00:00         71.0        68.0   04:00:00  \n",
       "2018-04-01 13:00:00        315.0       117.0   04:00:00  \n",
       "2018-04-01 17:00:00        863.0       175.0   04:00:00  \n",
       "2018-04-01 21:00:00        950.0       361.0   04:00:00  \n",
       "2018-04-02 01:00:00        272.0        67.0   04:00:00  \n",
       "2018-04-02 05:00:00         13.0        15.0   04:00:00  \n",
       "2018-04-02 09:00:00         90.0       177.0   04:00:00  \n",
       "2018-04-02 13:00:00        396.0       322.0   04:00:00  "
      ]
     },
     "execution_count": 33,
     "metadata": {},
     "output_type": "execute_result"
    }
   ],
   "source": [
    "canal_st = data.query('Station == \"CANAL ST\"').set_index('date_time')\n",
    "canal_st.head(10)"
   ]
  },
  {
   "cell_type": "code",
   "execution_count": 49,
   "metadata": {},
   "outputs": [
    {
     "data": {
      "text/plain": [
       "<matplotlib.axes._subplots.AxesSubplot at 0x1a5e349400>"
      ]
     },
     "execution_count": 49,
     "metadata": {},
     "output_type": "execute_result"
    },
    {
     "data": {
      "image/png": "[encoded data removed]",
      "text/plain": [
       "<Figure size 1296x360 with 1 Axes>"
      ]
     },
     "metadata": {
      "needs_background": "light"
     },
     "output_type": "display_data"
    }
   ],
   "source": [
    "canal_st = data.query('Station == \"CANAL ST\"')\n",
    "canal_st.plot(x='date_time', y='entry_delta', style='k.', figsize=(18,5), c='b')"
   ]
  },
  {
   "cell_type": "code",
   "execution_count": 63,
   "metadata": {},
   "outputs": [],
   "source": [
    "days = canal_st.groupby('Weekday')\n",
    "mondays = days.get_group('Monday')\n",
    "time_frac = mondays.date_time.dt.hour + (mondays.date_time.dt.minute/60)\n",
    "mondays = mondays.copy()\n",
    "mondays['time_frac'] = time_frac"
   ]
  },
  {
   "cell_type": "code",
   "execution_count": 64,
   "metadata": {},
   "outputs": [
    {
     "data": {
      "text/plain": [
       "<matplotlib.axes._subplots.AxesSubplot at 0x1a582c4c18>"
      ]
     },
     "execution_count": 64,
     "metadata": {},
     "output_type": "execute_result"
    },
    {
     "data": {
      "image/png": "[encoded data removed]",
      "text/plain": [
       "<Figure size 1296x360 with 1 Axes>"
      ]
     },
     "metadata": {
      "needs_background": "light"
     },
     "output_type": "display_data"
    }
   ],
   "source": [
    "thursdays = days.get_group('Thursday')\n",
    "thursdays = thursdays.copy()\n",
    "time_frac = thursdays.date_time.dt.hour + (thursdays.date_time.dt.minute/60)\n",
    "thursdays['time_frac'] = time_frac\n",
    "thursdays.plot(x='time_frac', xticks=range(0,24,2), y='entry_delta', style='k.', figsize=(18,5), c='b', alpha=0.3)"
   ]
  },
  {
   "cell_type": "code",
   "execution_count": 51,
   "metadata": {},
   "outputs": [
    {
     "data": {
      "text/plain": [
       "<matplotlib.axes._subplots.AxesSubplot at 0x1a5ee716d8>"
      ]
     },
     "execution_count": 51,
     "metadata": {},
     "output_type": "execute_result"
    },
    {
     "data": {
      "image/png": "[encoded data removed]",
      "text/plain": [
       "<Figure size 1296x360 with 1 Axes>"
      ]
     },
     "metadata": {
      "needs_background": "light"
     },
     "output_type": "display_data"
    }
   ],
   "source": [
    "mondays.plot(x='time_frac', xticks=range(0,24,2), y='entry_delta', style='k.', figsize=(18,5), c='b', alpha=0.3)"
   ]
  },
  {
   "cell_type": "code",
   "execution_count": 60,
   "metadata": {},
   "outputs": [
    {
     "data": {
      "text/plain": [
       "<matplotlib.axes._subplots.AxesSubplot at 0x147e7dc88>"
      ]
     },
     "execution_count": 60,
     "metadata": {},
     "output_type": "execute_result"
    },
    {
     "data": {
      "image/png": "[encoded data removed]",
      "text/plain": [
       "<Figure size 1296x360 with 1 Axes>"
      ]
     },
     "metadata": {
      "needs_background": "light"
     },
     "output_type": "display_data"
    }
   ],
   "source": [
    "mondays.plot(x='time_frac', xticks=range(0,24,2), y='exit_delta', style='k.', figsize=(18,5), c='b', alpha=0.3)"
   ]
  },
  {
   "cell_type": "code",
   "execution_count": 42,
   "metadata": {},
   "outputs": [
    {
     "data": {
      "text/html": [
       "<div>\n",
       "<style scoped>\n",
       "    .dataframe tbody tr th:only-of-type {\n",
       "        vertical-align: middle;\n",
       "    }\n",
       "\n",
       "    .dataframe tbody tr th {\n",
       "        vertical-align: top;\n",
       "    }\n",
       "\n",
       "    .dataframe thead th {\n",
       "        text-align: right;\n",
       "    }\n",
       "</style>\n",
       "<table border=\"1\" class=\"dataframe\">\n",
       "  <thead>\n",
       "    <tr style=\"text-align: right;\">\n",
       "      <th></th>\n",
       "      <th>C/A</th>\n",
       "      <th>Unit</th>\n",
       "      <th>SCP</th>\n",
       "      <th>Station</th>\n",
       "      <th>Description</th>\n",
       "      <th>Entries</th>\n",
       "      <th>Exits</th>\n",
       "      <th>ts_id</th>\n",
       "      <th>b_weekday</th>\n",
       "      <th>Weekday</th>\n",
       "      <th>entry_delta</th>\n",
       "      <th>exit_delta</th>\n",
       "      <th>time_delta</th>\n",
       "    </tr>\n",
       "    <tr>\n",
       "      <th>date_time</th>\n",
       "      <th></th>\n",
       "      <th></th>\n",
       "      <th></th>\n",
       "      <th></th>\n",
       "      <th></th>\n",
       "      <th></th>\n",
       "      <th></th>\n",
       "      <th></th>\n",
       "      <th></th>\n",
       "      <th></th>\n",
       "      <th></th>\n",
       "      <th></th>\n",
       "      <th></th>\n",
       "    </tr>\n",
       "  </thead>\n",
       "  <tbody>\n",
       "    <tr>\n",
       "      <th>2018-04-02 01:00:00</th>\n",
       "      <td>A066</td>\n",
       "      <td>R118</td>\n",
       "      <td>00-00-00</td>\n",
       "      <td>CANAL ST</td>\n",
       "      <td>REGULAR</td>\n",
       "      <td>1725407223</td>\n",
       "      <td>1762470932</td>\n",
       "      <td>R118_00-00-00</td>\n",
       "      <td>True</td>\n",
       "      <td>Monday</td>\n",
       "      <td>272.0</td>\n",
       "      <td>67.0</td>\n",
       "      <td>04:00:00</td>\n",
       "    </tr>\n",
       "  </tbody>\n",
       "</table>\n",
       "</div>"
      ],
      "text/plain": [
       "                      C/A  Unit       SCP   Station Description     Entries  \\\n",
       "date_time                                                                     \n",
       "2018-04-02 01:00:00  A066  R118  00-00-00  CANAL ST     REGULAR  1725407223   \n",
       "\n",
       "                          Exits          ts_id  b_weekday Weekday  \\\n",
       "date_time                                                           \n",
       "2018-04-02 01:00:00  1762470932  R118_00-00-00       True  Monday   \n",
       "\n",
       "                     entry_delta  exit_delta time_delta  \n",
       "date_time                                                \n",
       "2018-04-02 01:00:00        272.0        67.0   04:00:00  "
      ]
     },
     "execution_count": 42,
     "metadata": {},
     "output_type": "execute_result"
    }
   ],
   "source": [
    "mondays.head(1)"
   ]
  },
  {
   "cell_type": "code",
   "execution_count": 52,
   "metadata": {},
   "outputs": [
    {
     "data": {
      "text/plain": [
       "738"
      ]
     },
     "execution_count": 52,
     "metadata": {},
     "output_type": "execute_result"
    }
   ],
   "source": [
    "data['C/A'].nunique()"
   ]
  },
  {
   "cell_type": "code",
   "execution_count": 53,
   "metadata": {},
   "outputs": [
    {
     "data": {
      "text/plain": [
       "377"
      ]
     },
     "execution_count": 53,
     "metadata": {},
     "output_type": "execute_result"
    }
   ],
   "source": [
    "data['Station'].nunique()"
   ]
  },
  {
   "cell_type": "code",
   "execution_count": 57,
   "metadata": {},
   "outputs": [
    {
     "data": {
      "text/plain": [
       "<matplotlib.axes._subplots.AxesSubplot at 0x1222bb630>"
      ]
     },
     "execution_count": 57,
     "metadata": {},
     "output_type": "execute_result"
    },
    {
     "data": {
      "image/png": "[encoded data removed]",
      "text/plain": [
       "<Figure size 432x288 with 1 Axes>"
      ]
     },
     "metadata": {
      "needs_background": "light"
     },
     "output_type": "display_data"
    }
   ],
   "source": [
    "import seaborn as sns\n",
    "sns.distplot(mondays.entry_delta, hist=False)\n"
   ]
  },
  {
   "cell_type": "code",
   "execution_count": 59,
   "metadata": {},
   "outputs": [
    {
     "data": {
      "text/plain": [
       "<matplotlib.axes._subplots.AxesSubplot at 0x147e10c88>"
      ]
     },
     "execution_count": 59,
     "metadata": {},
     "output_type": "execute_result"
    },
    {
     "data": {
      "image/png": "[encoded data removed]",
      "text/plain": [
       "<Figure size 432x288 with 1 Axes>"
      ]
     },
     "metadata": {
      "needs_background": "light"
     },
     "output_type": "display_data"
    }
   ],
   "source": [
    "\n",
    "sundays = days.get_group('Sunday')\n",
    "time_frac = sundays.date_time.dt.time\n",
    "sundays = sundays.copy()\n",
    "sundays['time_frac'] = time_frac\n",
    "\n",
    "sns.distplot(sundays.entry_delta, hist=False)"
   ]
  },
  {
   "cell_type": "code",
   "execution_count": null,
   "metadata": {},
   "outputs": [],
   "source": []
  }
 ],
 "metadata": {
  "kernelspec": {
   "display_name": "Python 3",
   "language": "python",
   "name": "python3"
  },
  "language_info": {
   "codemirror_mode": {
    "name": "ipython",
    "version": 3
   },
   "file_extension": ".py",
   "mimetype": "text/x-python",
   "name": "python",
   "nbconvert_exporter": "python",
   "pygments_lexer": "ipython3",
   "version": "3.7.1"
  },
  "toc": {
   "base_numbering": 1,
   "nav_menu": {},
   "number_sections": true,
   "sideBar": true,
   "skip_h1_title": false,
   "title_cell": "Table of Contents",
   "title_sidebar": "Contents",
   "toc_cell": false,
   "toc_position": {},
   "toc_section_display": true,
   "toc_window_display": false
  }
 },
 "nbformat": 4,
 "nbformat_minor": 2
}
